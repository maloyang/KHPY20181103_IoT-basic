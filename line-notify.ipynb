{
 "cells": [
  {
   "cell_type": "markdown",
   "metadata": {},
   "source": [
    "### 經由heroku webapi發line notify"
   ]
  },
  {
   "cell_type": "code",
   "execution_count": 1,
   "metadata": {},
   "outputs": [],
   "source": [
    "# [KHPY-IOT課程]的token:  YEdh1qqHa5eXNTNsPGvJKSvVR1AXrkOuw9blRWPmUCP\n",
    "# 由：https://notify-bot.line.me/my/ 取得\n",
    "\n",
    "import requests\n",
    "\n",
    "url = \"http://khpy-line.herokuapp.com/line\"\n",
    "token = 'YADFITvZVORrWN8rA26VsIJXQBvaGTqPPLgpBfLAYVC'\n",
    "\n",
    "message =  'KHPY & Python so nice'\n",
    "payload = {'token':token, \"message\":message}\n",
    "\n",
    "r = requests.post(url, params=payload)\n"
   ]
  },
  {
   "cell_type": "markdown",
   "metadata": {},
   "source": [
    "### 直接連向Line的後台服務"
   ]
  },
  {
   "cell_type": "code",
   "execution_count": 2,
   "metadata": {},
   "outputs": [
    {
     "data": {
      "text/plain": [
       "<Response [405]>"
      ]
     },
     "execution_count": 2,
     "metadata": {},
     "output_type": "execute_result"
    }
   ],
   "source": [
    "# [KHPY-IOT課程]的token:  YEdh1qqHa5eXNTNsPGvJKSvVR1AXrkOuw9blRWPmUCP\n",
    "# 由：https://notify-bot.line.me/my/ 取得\n",
    "\n",
    "import requests\n",
    "\n",
    "url = \"http://notify-api.line.me/api/notify\"  # --> 不支援http, 只能用https\n",
    "token = 'YADFITvZVORrWN8rA26VsIJXQBvaGTqPPLgpBfLAYVC'\n",
    "headers = {\"Authorization\" : \"Bearer \"+ token}\n",
    "\n",
    "message =  'IOT課程好棒'\n",
    "payload = {\"message\" :  message}\n",
    "\n",
    "r = requests.post(url ,headers = headers ,params=payload)\n",
    "r"
   ]
  },
  {
   "cell_type": "code",
   "execution_count": 3,
   "metadata": {},
   "outputs": [
    {
     "data": {
      "text/plain": [
       "<Response [200]>"
      ]
     },
     "execution_count": 3,
     "metadata": {},
     "output_type": "execute_result"
    }
   ],
   "source": [
    "# [KHPY-IOT課程]的token:  YEdh1qqHa5eXNTNsPGvJKSvVR1AXrkOuw9blRWPmUCP\n",
    "# 由：https://notify-bot.line.me/my/ 取得\n",
    "\n",
    "import requests\n",
    "\n",
    "url = \"https://notify-api.line.me/api/notify\"  # --> 不支援http, 只能用https\n",
    "token = 'YADFITvZVORrWN8rA26VsIJXQBvaGTqPPLgpBfLAYVC'\n",
    "headers = {\"Authorization\" : \"Bearer \"+ token}\n",
    "\n",
    "message =  'IOT課程好棒'\n",
    "payload = {\"message\" :  message}\n",
    "\n",
    "r = requests.post(url ,headers = headers ,params=payload)\n",
    "r"
   ]
  }
 ],
 "metadata": {
  "kernelspec": {
   "display_name": "Python 3",
   "language": "python",
   "name": "python3"
  },
  "language_info": {
   "codemirror_mode": {
    "name": "ipython",
    "version": 3
   },
   "file_extension": ".py",
   "mimetype": "text/x-python",
   "name": "python",
   "nbconvert_exporter": "python",
   "pygments_lexer": "ipython3",
   "version": "3.6.6"
  }
 },
 "nbformat": 4,
 "nbformat_minor": 2
}
