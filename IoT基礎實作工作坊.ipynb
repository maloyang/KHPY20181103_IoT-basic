{
 "cells": [
  {
   "cell_type": "markdown",
   "metadata": {},
   "source": [
    "# IoT基礎實作工作坊 (IoT Basic Workshop)\n",
    "\n",
    "IoT with MicroPython (ESP Hardware)\n"
   ]
  },
  {
   "cell_type": "markdown",
   "metadata": {},
   "source": [
    "## 課程大綱\n",
    "\n",
    "### 硬體週邊教學\n",
    "\n",
    "- 簡介\n",
    "    - 說明課程含蓋的主題\n",
    "\n",
    "- MicroPython Basic\n",
    "    - 介紹硬體、腳位怎麼看\n",
    "    - 連線方式、腳位說明\n",
    "    - 麵包板介紹\n",
    "    - 拿到硬體的基本測試\n",
    "\n",
    "- 和MicroPython互動\n",
    "    - webrepl操作\n",
    "    - 控制Led燈: demo1\n",
    "    - 練習題：控制Led為心跳方式閃動\n",
    "    \n",
    "- 溫溼度感測器\n",
    "    - 讀取DHT11: demo2\n",
    "    - 原理說明\n",
    "    - if練習：判斷溫溼度，太高就亮燈\n",
    "    - while練習：連續讀溫溼度，正常慢閃、過高快閃、過低超慢閃\n",
    "\n",
    "----\n",
    "\n",
    "### 開始上雲端\n",
    "\n",
    "- line即時通訊應用\n",
    "    - line 訊息機制說明\n",
    "    - line警報訊息實作\n",
    "\n",
    "- ThingSpeak: 自動化趨勢圖、雲端儲存\n",
    "    - ThingSpeaker 說明\n",
    "    - 練習：溫溼度資訊上傳雲端\n",
    "    \n",
    "- MQTT: 即時互動\n",
    "    - MQTT雲端介紹\n",
    "    - 手機設定方式(先讓學員連講師的資料)\n",
    "    - 溫溼度資訊上雲端\n",
    "    - 手機控制Led\n",
    "    - 手機加入自己的點位\n",
    "\n",
    "- MicroPython啟動機制說明\n",
    "    - 開機自動執行程式\n",
    "    - 測試用網頁程式說明\n",
    "    \n",
    "----\n"
   ]
  },
  {
   "cell_type": "markdown",
   "metadata": {},
   "source": [
    "## MicroPython Basic\n",
    "\n",
    "### 多種MicroPython的板子\n",
    "\n",
    "![各種板子](image/upy-pic-other.png)\n",
    "\n",
    "\n",
    "### 上課用的板子\n",
    "\n",
    "![esp-lolin](image/esp-lolin.png)\n",
    "![esp-d1-mini](image/esp-d1-mini.png)\n",
    "![d1-mini](image/d1-mini.jpg)\n",
    "\n",
    "* 這一張圖很重要!!很重要!!很重要!!\n",
    "* 因為ESP上的D1~D8並不是我們在microPython中的代號，如D4在microPython中為pin2，因此要寫 machine.Pin(2, machine.Pin.OUT) \n",
    "\n",
    "```\n",
    "D0 = 16\n",
    "D1 = 5  #PWM\n",
    "D2 = 4  #PWM\n",
    "D3 = 0  #PWM\n",
    "D4 = 2  #PWM, #Led on board\n",
    "D5 = 14 #PWM\n",
    "D6 = 12 #PWM\n",
    "D7 = 13 #PWM\n",
    "D8 = 15 #PWM\n",
    "```"
   ]
  },
  {
   "cell_type": "markdown",
   "metadata": {},
   "source": [
    "----\n",
    "\n",
    "## 簡介 (ESP12E)\n",
    "\n",
    "簡而言之，這是一個單晶片，就像電機/電子科系的學生時代使用的8051、STM32的單晶片MCU一樣。  \n",
    "只是這類單晶片一般使用C語言開發，我們現在使用彈性更高、更好入手的Python語言!\n",
    "\n",
    "- 32位元80MHz處理器\n",
    "- 4MB Flash\n",
    "- 80kB user-data ram\n",
    "- 內建WiFi模組: 11b/g/n, Station/AP雙模支持\n",
    "- –40°C ~ 125°C\n",
    "- [模組介紹-英](https://www.kloppenborg.net/images/blog/esp8266/esp8266-esp12e-specs.pdf)\n",
    "- [模組介紹-中](https://www.espressif.com/sites/default/files/documentation/0a-esp8266ex_datasheet_cn.pdf)"
   ]
  },
  {
   "cell_type": "markdown",
   "metadata": {},
   "source": [
    "### 腳位定義\n",
    "- LED (D4)\n",
    "- T/H sensor 用(D1 -> GPIO5)"
   ]
  },
  {
   "cell_type": "markdown",
   "metadata": {},
   "source": [
    "----\n",
    "\n",
    "## 上電測試\n",
    "\n",
    "- 如何分辨你的硬體\n",
    "\n",
    "    - 在windows右下角可以看到如下圖的WiFi列表，請確認您拿到的材料包上的編號，WiFi清單中，ID和材料包上的ID相同的，那一個wifi-AP就是你的板子發出來的訊息。\n",
    "    - WiFi SSID名稱後面帶的是目前MicroPython硬體被配發的IP。請在web-browser上輸入這一個IP就可以看到測試的網頁。\n",
    "\n",
    "![pic](image/wifi-list.png)\n",
    "\n",
    " \n",
    "- 用網頁進行硬體測試，請點Led的ON, OFF測試你的板子上Led燈是否正確開關，如果是，表示你已連結到自己的板子。\n",
    "\n",
    "![pic](image/upy-web.png)\n"
   ]
  },
  {
   "cell_type": "markdown",
   "metadata": {},
   "source": [
    "----\n",
    "\n",
    "## 和MicroPython互動\n",
    "\n",
    "[link](webrepl-用網頁和MicroPython互動.ipynb)\n",
    "\n",
    "- webrepl操作\n",
    "- 控制Led燈: demo1\n",
    "- 練習題：控制Led為心跳方式閃動"
   ]
  },
  {
   "cell_type": "code",
   "execution_count": 14,
   "metadata": {},
   "outputs": [
    {
     "name": "stdout",
     "output_type": "stream",
     "text": [
      "."
     ]
    }
   ],
   "source": [
    "from machine import Pin\n",
    "import time\n",
    "\n",
    "p2 = Pin(2, Pin.OUT) #D4\n",
    "\n",
    "for i in range(6):\n",
    "    p2.value(not p2.value())\n",
    "    time.sleep(1)"
   ]
  },
  {
   "cell_type": "markdown",
   "metadata": {},
   "source": [
    "### 練習\n",
    "- 練習讓Led一秒閃二下\n",
    "- 練習讓Led用心跳的方式閃動"
   ]
  },
  {
   "cell_type": "code",
   "execution_count": null,
   "metadata": {
    "collapsed": true
   },
   "outputs": [],
   "source": [
    "#TODO:"
   ]
  },
  {
   "cell_type": "markdown",
   "metadata": {},
   "source": [
    "----\n",
    "\n",
    "## 溫溼度感測器\n",
    "\n",
    "- 外觀如圖所示\n",
    "- ![圖片](image/DHT-11.png)\n",
    "- [說明原理](ref/DHT11.pdf) [(中文)](ref/DHT11-chinese.pdf)\n",
    "- demo\n",
    "- 練習"
   ]
  },
  {
   "cell_type": "code",
   "execution_count": 23,
   "metadata": {},
   "outputs": [
    {
     "name": "stdout",
     "output_type": "stream",
     "text": [
      "T=29, H=95\r\n"
     ]
    }
   ],
   "source": [
    "# upy to read temperature, humidity\n",
    "\n",
    "import dht\n",
    "from machine import Pin\n",
    "\n",
    "d = dht.DHT11(Pin(5)) #D1\n",
    "d.measure()\n",
    "T = d.temperature() # eg. 23 (℃)\n",
    "H = d.humidity()    # eg. 41 (% RH)\n",
    "print(\"T=%s, H=%s\" %(T, H))\n"
   ]
  },
  {
   "cell_type": "markdown",
   "metadata": {},
   "source": [
    "### 練習題：溫度超過32度，亮起Led燈"
   ]
  },
  {
   "cell_type": "code",
   "execution_count": null,
   "metadata": {
    "collapsed": true
   },
   "outputs": [],
   "source": [
    "#TODO:"
   ]
  },
  {
   "cell_type": "code",
   "execution_count": 31,
   "metadata": {},
   "outputs": [
    {
     "name": "stdout",
     "output_type": "stream",
     "text": [
      "T=32, H=95\r\n"
     ]
    }
   ],
   "source": [
    "# 示範解題\n",
    "import dht\n",
    "from machine import Pin\n",
    "\n",
    "d = dht.DHT11(Pin(5)) #D1\n",
    "led = Pin(2, Pin.OUT) #D4\n",
    "\n",
    "#while(True):\n",
    "d.measure()\n",
    "T = d.temperature() # eg. 23 (℃)\n",
    "H = d.humidity()    # eg. 41 (% RH)\n",
    "print(\"T=%s, H=%s\" %(T, H))\n",
    "if T>=32:\n",
    "    led.value(0) #ON\n",
    "else:\n",
    "    led.value(1) #OFF"
   ]
  },
  {
   "cell_type": "code",
   "execution_count": 32,
   "metadata": {
    "scrolled": true
   },
   "outputs": [
    {
     "name": "stdout",
     "output_type": "stream",
     "text": [
      "T=33, H=95\n",
      "T=30, H=95\n",
      "T=30, H=95\n",
      "T=30, H=95\n",
      "T=32, H=95\n",
      ".T=33, H=95\n",
      "T=33, H=95\n",
      "T=34, H=95\n",
      "T=34, H=95\n",
      "T=33, H=95\n",
      ".T=32, H=95\n",
      "T=32, H=95\n",
      "T=31, H=95\n",
      "T=31, H=95\n",
      "T=31, H=95\n",
      ".T=31, H=95\n",
      "T=31, H=95\n",
      "T=31, H=95\n",
      "T=31, H=95\n",
      "T=31, H=95\n",
      ".T=31, H=95\n",
      "T=31, H=95\n",
      "T=31, H=95\n",
      "T=31, H=95\n",
      "T=31, H=95\n",
      ".T=31, H=95\n",
      "T=31, H=95\n",
      "T=31, H=95\n",
      "T=31, H=95\n",
      "\u001b[34m\n",
      "\n",
      "*** Sending Ctrl-C\n",
      "\n",
      "\u001b[0m"
     ]
    },
    {
     "name": "stderr",
     "output_type": "stream",
     "text": [
      "Traceback (most recent call last):\n",
      "  File \"<stdin>\", line 10, in <module>\n",
      "  File \"dht.py\", line 13, in measure\n",
      "KeyboardInterrupt: \n"
     ]
    }
   ],
   "source": [
    "# 示範解題\n",
    "import dht\n",
    "from machine import Pin\n",
    "import time\n",
    "\n",
    "d = dht.DHT11(Pin(5)) #D1\n",
    "led = Pin(2, Pin.OUT) #D4\n",
    "\n",
    "while(True):\n",
    "    d.measure()\n",
    "    T = d.temperature() # eg. 23 (℃)\n",
    "    H = d.humidity()    # eg. 41 (% RH)\n",
    "    print(\"T=%s, H=%s\" %(T, H))\n",
    "    if T>=32:\n",
    "        led.value(0) #ON\n",
    "    else:\n",
    "        led.value(1) #OFF\n",
    "    time.sleep(1)"
   ]
  },
  {
   "cell_type": "markdown",
   "metadata": {},
   "source": [
    "----\n",
    "\n",
    "## 雲端應用教學\n",
    "- line\n",
    "- ThingSpeak\n",
    "- MQTT"
   ]
  },
  {
   "cell_type": "markdown",
   "metadata": {},
   "source": [
    "----\n",
    "## 雲端應用 - line平台溫度警報器\n",
    "\n",
    "- line 訊息機制說明\n",
    "- 請大家加入本課程的[demo group](https://line.me/R/ti/g/ihJqwdq7Mf)\n",
    "    - ![KHPY IOT Class](image/KHPY20181103-IOT-barcode.jpg)\n",
    "- line警報訊息實作\n",
    "    - 使用「KHPY課程群組」試著發訊息\n",
    "    - 請學員申請自己的line群組token，或自己的token也行\n",
    "    - 申請連結：https://notify-bot.line.me/my/\n",
    "- 本課程的token: YADFITvZVORrWN8rA26VsIJXQBvaGTqPPLgpBfLAYVC\n",
    "- [測試連結](http://khpy-line.herokuapp.com/line?token=YADFITvZVORrWN8rA26VsIJXQBvaGTqPPLgpBfLAYVC&message=hi)"
   ]
  },
  {
   "cell_type": "code",
   "execution_count": 35,
   "metadata": {},
   "outputs": [
    {
     "name": "stdout",
     "output_type": "stream",
     "text": [
      "..result:  b'OK'\n"
     ]
    }
   ],
   "source": [
    "import urequests\n",
    "\n",
    "url = \"http://khpy-line.herokuapp.com/line\"\n",
    "token = 'YADFITvZVORrWN8rA26VsIJXQBvaGTqPPLgpBfLAYVC'\n",
    "\n",
    "message =  'KHPY so nice'\n",
    "message = message.replace(' ', '%20')\n",
    "payload = {'token':token, \"message\":message}\n",
    "\n",
    "#r = urequests.post(url, params=payload) # urequests do not has 'params'\n",
    "r = urequests.post(url+'?'+'token='+token+'&message='+message)\n",
    "print('result: ', r.content)\n",
    "r.close()"
   ]
  },
  {
   "cell_type": "markdown",
   "metadata": {},
   "source": [
    "### 練習：申請自己的line通知服務"
   ]
  },
  {
   "cell_type": "markdown",
   "metadata": {},
   "source": [
    "### line notify申請方式\n",
    "- 請先連至[申請頁面](https://notify-bot.line.me/my/)\n",
    "- 填入個人帳密登入\n",
    "- ![登入頁面](image/line-notify0.png)\n",
    "- 登入後，請點選頁面最下方的「發行權杖」\n",
    "- ![發行權杖](image/line-notify.png)\n",
    "- 選擇群組，以發行權杖\n",
    "- ![選擇群組](image/line-notify2.png)\n",
    "- 點選下方的完成鍵後，可以得到權杖如下，請複製起來，供實作時使用\n",
    "- ![權杖](image/line-notify3.png)\n",
    "- 請把「LINE Notify」加入你的群組中，這樣我們才能使用權杖(token)讓它發出訊息\n",
    "- ![加入群組](image/line-notify4.png)"
   ]
  },
  {
   "cell_type": "markdown",
   "metadata": {},
   "source": [
    "### 建立自己的Line Notify Web-API服務\n",
    "\n",
    "- 先申請[Heroku帳號](https://www.heroku.com/)，並登入\n",
    "- 進來[這邊](https://github.com/maloyang/one-click-line-notify)就可以一鍵佈署你的服務"
   ]
  },
  {
   "cell_type": "markdown",
   "metadata": {},
   "source": [
    "### 練習題：當溫度超過30度時，發出警告訊息"
   ]
  },
  {
   "cell_type": "code",
   "execution_count": null,
   "metadata": {
    "collapsed": true
   },
   "outputs": [],
   "source": [
    "#TODO:"
   ]
  },
  {
   "cell_type": "code",
   "execution_count": 37,
   "metadata": {},
   "outputs": [
    {
     "name": "stdout",
     "output_type": "stream",
     "text": [
      "T=31, H=95\n",
      "T=30, H=95\n",
      "T=32, H=95\n",
      ".result:  b'OK'\n",
      ".T=33, H=95\n",
      "result:  b'OK'\n",
      ".T=33, H=95\n",
      "result:  b'OK'\n",
      "..T=32, H=95\n",
      "result:  b'OK'\n",
      ".T=31, H=95\n",
      "T=30, H=95\n",
      ".T=30, H=95\n",
      "T=30, H=95\n",
      "T=30, H=95\n",
      "T=30, H=95\n",
      "T=30, H=95\n",
      "\u001b[34m\n",
      "\n",
      "*** Sending Ctrl-C\n",
      "\n",
      "\u001b[0m"
     ]
    },
    {
     "name": "stderr",
     "output_type": "stream",
     "text": [
      "Traceback (most recent call last):\n",
      "  File \"<stdin>\", line 25, in <module>\n",
      "KeyboardInterrupt: \n"
     ]
    }
   ],
   "source": [
    "# 示範解題\n",
    "import dht\n",
    "from machine import Pin\n",
    "import urequests\n",
    "import time\n",
    "\n",
    "def send_line(token = 'YADFITvZVORrWN8rA26VsIJXQBvaGTqPPLgpBfLAYVC', message =  'KHPY so nice...'):\n",
    "    url = \"http://khpy-line.herokuapp.com/line2\"\n",
    "    payload = {'token':token, \"message\":message}\n",
    "    r = urequests.post(url, json=payload) #not real json data to server, it use 'data'\n",
    "    print('result: ', r.content)\n",
    "    r.close()\n",
    "\n",
    "\n",
    "d = dht.DHT11(Pin(5)) #D1\n",
    "\n",
    "while(True):\n",
    "    d.measure()\n",
    "    T = d.temperature() # eg. 23 (℃)\n",
    "    H = d.humidity()    # eg. 41 (% RH)\n",
    "    print(\"T=%s, H=%s\" %(T, H))\n",
    "    if T>=32:\n",
    "        send_line(message='temperature high alarm!! (%d)' %(T))\n",
    "        time.sleep(5)\n",
    "    time.sleep(1)"
   ]
  },
  {
   "cell_type": "markdown",
   "metadata": {},
   "source": [
    "### Line 補充教材\n",
    "\n",
    "- [使用Python發訊息](line-notify.ipynb)"
   ]
  },
  {
   "cell_type": "markdown",
   "metadata": {},
   "source": [
    "----\n",
    "## 雲端應用 - ThingSpeak\n",
    "\n",
    "- [申請教學](ThingSpeak.ipynb)"
   ]
  },
  {
   "cell_type": "code",
   "execution_count": null,
   "metadata": {
    "collapsed": true
   },
   "outputs": [],
   "source": [
    "# demo\n",
    "\n",
    "import urequests\n",
    "import dht\n",
    "from machine import Pin\n",
    "\n",
    "api_key = 'E2MCZ9NHU3NQ4FXK'\n",
    "field1 = 20 #T\n",
    "field2 = 60 #H\n",
    "\n",
    "url_update = 'http://api.thingspeak.com/update?api_key='+api_key+'&field1='+str(field1)+'&field2='+str(field2)\n",
    "r = urequests.post(url_update)\n",
    "print('result: ', r.content)\n",
    "r.close()\n"
   ]
  },
  {
   "cell_type": "markdown",
   "metadata": {},
   "source": [
    "### 練習：把溫溼度資訊送上ThingSpeak\n",
    "- 上傳速度1分鐘一次為佳 (ThingSpeak最快只能接受15秒一筆)\n",
    "- 利用web browser上傳資料: http://api.thingspeak.com/update?api_key=E2MCZ9NHU3NQ4FXK&field1=20&field2=80\n",
    "- 取回最近二筆資料: https://api.thingspeak.com/channels/616920/feeds.json?results=2\n",
    "- 看趨勢圖: https://thingspeak.com/channels/616920\n",
    "![趨勢圖](image/thingspeak-screenshot.png)"
   ]
  },
  {
   "cell_type": "code",
   "execution_count": null,
   "metadata": {
    "collapsed": true
   },
   "outputs": [],
   "source": [
    "#TODO:"
   ]
  },
  {
   "cell_type": "code",
   "execution_count": 38,
   "metadata": {
    "scrolled": true
   },
   "outputs": [
    {
     "name": "stdout",
     "output_type": "stream",
     "text": [
      "T=30, H=95\n",
      "result:  b'6'\n"
     ]
    }
   ],
   "source": [
    "# 示範解題\n",
    "import urequests\n",
    "import dht\n",
    "from machine import Pin\n",
    "\n",
    "api_key = 'E2MCZ9NHU3NQ4FXK'\n",
    "field1 = 20 #T\n",
    "field2 = 60 #H\n",
    "\n",
    "d = dht.DHT11(Pin(5)) #D1\n",
    "\n",
    "d.measure()\n",
    "T = d.temperature() # eg. 23 (℃)\n",
    "H = d.humidity()    # eg. 41 (% RH)\n",
    "print(\"T=%s, H=%s\" %(T, H))\n",
    "\n",
    "url_update = 'http://api.thingspeak.com/update?api_key='+api_key+'&field1='+str(T)+'&field2='+str(H)\n",
    "r = urequests.post(url_update)\n",
    "print('result: ', r.content)\n",
    "r.close()\n"
   ]
  },
  {
   "cell_type": "markdown",
   "metadata": {},
   "source": [
    "### 練習題：試著把溫溼度資訊連續送上雲端"
   ]
  },
  {
   "cell_type": "code",
   "execution_count": null,
   "metadata": {},
   "outputs": [],
   "source": [
    "#TODO:"
   ]
  },
  {
   "cell_type": "markdown",
   "metadata": {},
   "source": [
    "----\n",
    "## 雲端應用 - MQTT\n",
    "\n",
    "[link](MQTT.ipynb)\n",
    "\n",
    "- MQTT介紹\n",
    "- 手機設定方式(請學員先連講師的demo資料)\n",
    "- 溫溼度資訊上雲端\n",
    "- 手機加入自己的點位\n",
    "- 手機控制Led"
   ]
  },
  {
   "cell_type": "code",
   "execution_count": 41,
   "metadata": {},
   "outputs": [
    {
     "name": "stdout",
     "output_type": "stream",
     "text": [
      ".T=29, H=95\n",
      "T=31, H=95\n",
      "T=31, H=95\n"
     ]
    }
   ],
   "source": [
    "# demo: push T/H data to MQTT Server\n",
    "\n",
    "from umqtt.simple import MQTTClient\n",
    "from machine import Pin\n",
    "import dht\n",
    "import ubinascii\n",
    "import machine\n",
    "import network\n",
    "import time\n",
    "import os\n",
    "\n",
    "TOPIC_BASE = 'malo-iot'\n",
    "\n",
    "def dht_get():\n",
    "    T=None\n",
    "    H=None\n",
    "    try:\n",
    "        d = dht.DHT11(Pin(5)) #D1\n",
    "\n",
    "        d.measure()\n",
    "        T = d.temperature()\n",
    "        H = d.humidity()\n",
    "    except Exception as e:\n",
    "        print('dht_get error:', str(e))\n",
    "    \n",
    "    return T, H\n",
    "\n",
    "\n",
    "# Default MQTT server to connect to\n",
    "server = \"iot.eclipse.org\"\n",
    "CLIENT_ID = ubinascii.hexlify(machine.unique_id()).decode('utf-8')\n",
    "topic_t = TOPIC_BASE+'/T'\n",
    "topic_h = TOPIC_BASE+'/H'\n",
    "\n",
    "c = MQTTClient(CLIENT_ID, server)\n",
    "c.connect()\n",
    "\n",
    "tm_pub_th = time.ticks_ms()\n",
    "\n",
    "for i in range(3):\n",
    "    time.sleep(1)\n",
    "    T, H = dht_get()\n",
    "    print(\"T=%s, H=%s\" %(T, H))\n",
    "    c.publish(topic_t, str(T))\n",
    "    c.publish(topic_h, str(H))\n"
   ]
  },
  {
   "cell_type": "markdown",
   "metadata": {},
   "source": [
    "### 練習：不斷push溫溼度資料到雲端，並顯示在手機裡"
   ]
  },
  {
   "cell_type": "code",
   "execution_count": null,
   "metadata": {
    "collapsed": true
   },
   "outputs": [],
   "source": [
    "#TODO:"
   ]
  },
  {
   "cell_type": "markdown",
   "metadata": {},
   "source": [
    "### Demo：一邊上傳，一邊接受控制Led燈號"
   ]
  },
  {
   "cell_type": "code",
   "execution_count": null,
   "metadata": {
    "collapsed": true
   },
   "outputs": [],
   "source": []
  },
  {
   "cell_type": "markdown",
   "metadata": {},
   "source": [
    "### 練習題：再加入控制蜂鳴器的功能"
   ]
  },
  {
   "cell_type": "code",
   "execution_count": null,
   "metadata": {
    "collapsed": true
   },
   "outputs": [],
   "source": [
    "#TODO:"
   ]
  },
  {
   "cell_type": "markdown",
   "metadata": {},
   "source": [
    "----\n",
    "## MicroPython網頁伺服器程式說明\n",
    "\n",
    "請見「webdemo」資料夾"
   ]
  },
  {
   "cell_type": "code",
   "execution_count": null,
   "metadata": {
    "collapsed": true
   },
   "outputs": [],
   "source": []
  }
 ],
 "metadata": {
  "kernelspec": {
   "display_name": "MicroPython - USB",
   "language": "micropython",
   "name": "micropython"
  },
  "language_info": {
   "codemirror_mode": "python",
   "file_extension": ".py",
   "mimetype": "text/python",
   "name": "micropython"
  }
 },
 "nbformat": 4,
 "nbformat_minor": 2
}
