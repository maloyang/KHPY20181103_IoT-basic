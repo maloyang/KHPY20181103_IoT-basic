{
 "cells": [
  {
   "cell_type": "markdown",
   "metadata": {},
   "source": [
    "# ThingSpeak\n",
    "\n",
    "- [申請網址](https://thingspeak.com/)\n",
    "\n",
    "- ![申請資訊](image/thingSpeak-nopwd.png)\n",
    "\n",
    "- 需要再補上設定channel的教學\n",
    "----\n",
    "- 參考這一篇: https://oranwind.org/-raspberry-pi-tou-guo-python-chuan-song-wen-shi-du-zi-xun-dao-thingspeak/\n",
    "- ref: http://yhhuang1966.blogspot.com/2017/06/micropython-on-esp8266-dht11.html\n",
    "- ref: http://yhhuang1966.blogspot.com/2017/08/micropython-on-esp8266-thingspeak.html"
   ]
  },
  {
   "cell_type": "markdown",
   "metadata": {},
   "source": [
    "## push to thingSpeak @Python"
   ]
  },
  {
   "cell_type": "code",
   "execution_count": 15,
   "metadata": {},
   "outputs": [
    {
     "data": {
      "text/plain": [
       "<Response [200]>"
      ]
     },
     "execution_count": 15,
     "metadata": {},
     "output_type": "execute_result"
    }
   ],
   "source": [
    "import requests\n",
    "\n",
    "# use: https://api.thingspeak.com/update?api_key=TWB7BD496GOYPGM1&field1=25&field2=65\n",
    "# field1: T\n",
    "# field2: H\n",
    "url = 'https://api.thingspeak.com/update'\n",
    "api_key = 'E2MCZ9NHU3NQ4FXK'\n",
    "field1 = 20\n",
    "field2 = 80\n",
    "data = {'api_key': api_key, 'field1':field1, 'field2':field2}\n",
    "r = requests.get(url, params=data)\n",
    "r"
   ]
  }
 ],
 "metadata": {
  "kernelspec": {
   "display_name": "Python 3",
   "language": "python",
   "name": "python3"
  },
  "language_info": {
   "codemirror_mode": {
    "name": "ipython",
    "version": 3
   },
   "file_extension": ".py",
   "mimetype": "text/x-python",
   "name": "python",
   "nbconvert_exporter": "python",
   "pygments_lexer": "ipython3",
   "version": "3.6.6"
  }
 },
 "nbformat": 4,
 "nbformat_minor": 2
}
