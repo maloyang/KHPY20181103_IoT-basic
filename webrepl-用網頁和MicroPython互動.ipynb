{
 "cells": [
  {
   "cell_type": "markdown",
   "metadata": {},
   "source": [
    "# webrepl : 用網頁和MicroPython互動\n",
    "\n",
    "## 方便的網頁指令操作介面\n",
    "\n",
    "圖文教學如何使用webrepl，並寫一個控制led的程式\n",
    "\n",
    "- 先使用網頁連到MicroPython板子的網頁，點上面的「webrepl」的連結，會帶到webrepl的頁面\n",
    "\n",
    "- 或是打開「webrepl」，開啟「webrepl.html」，就可以看到webrepl的頁面\n",
    "\n",
    "![webrepl1](image/webrepl1.png)\n",
    "\n",
    "- 在webrepl的頁面如下圖，左上方是連結設定區，左下方是指令輸入區，右方是寫入程式檔案的功能區\n",
    "\n",
    "![webrepl2](image/webrepl2.png)\n",
    "\n",
    "- 先在連結設定區，輸入你的MicroPython目前的IP，並按connect，密碼目前預設「1234」\n",
    "- 連上後，請照圖上的指令輸入區輪入指令，完成控制Led的功能\n",
    "\n",
    "![webrepl3](image/webrepl3.png)"
   ]
  },
  {
   "cell_type": "markdown",
   "metadata": {},
   "source": [
    "### ps. 在上課前講師已經先在USB介面下指令打開webrepl功能了\n",
    "\n",
    "```\n",
    ">>> import webrepl_setup\n",
    "WebREPL daemon auto-start status: disabled\n",
    "\n",
    "Would you like to (E)nable or (D)isable it running on boot?\n",
    "(Empty line to quit)\n",
    "> E\n",
    "To enable WebREPL, you must set password for it\n",
    "New password (4-9 chars): 1234\n",
    "Confirm password: 1234\n",
    "Changes will be activated after reboot\n",
    "Would you like to reboot now? (y/n) y\n",
    ">>>\n",
    "```"
   ]
  },
  {
   "cell_type": "markdown",
   "metadata": {},
   "source": [
    "## GPIO控制\n"
   ]
  },
  {
   "cell_type": "code",
   "execution_count": null,
   "metadata": {},
   "outputs": [],
   "source": [
    "# 控制板子上的Led燈\n",
    "from machine import Pin\n",
    "import time\n",
    "\n",
    "p = Pin(2, Pin.OUT) #D4\n",
    "\n",
    "for i in range(6):\n",
    "    p.value(not p.value())\n",
    "    time.sleep(1)"
   ]
  },
  {
   "cell_type": "markdown",
   "metadata": {},
   "source": [
    "### TODO:\n",
    "\n",
    "- 連到你的板子的web tool，並使用網頁控制Led，確認連到的是你的板子\n",
    "\n",
    "- 打開webrepl，輸入上面的這一個GPIO範例，確認有辨法用程式和MicroPython板子互動\n",
    "\n",
    "    - 剛連上時應該是無法輸入指令的，請按「Ctrl ^ C」把網頁功能中斷，才能和webrepl互動\n",
    "    "
   ]
  }
 ],
 "metadata": {
  "kernelspec": {
   "display_name": "Python 3",
   "language": "python",
   "name": "python3"
  },
  "language_info": {
   "codemirror_mode": {
    "name": "ipython",
    "version": 3
   },
   "file_extension": ".py",
   "mimetype": "text/x-python",
   "name": "python",
   "nbconvert_exporter": "python",
   "pygments_lexer": "ipython3",
   "version": "3.6.6"
  }
 },
 "nbformat": 4,
 "nbformat_minor": 2
}
